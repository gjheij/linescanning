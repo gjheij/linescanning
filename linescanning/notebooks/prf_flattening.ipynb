{
 "cells": [
  {
   "cell_type": "code",
   "execution_count": 29,
   "source": [
    "# !source ~/.bash_profile\n",
    "\n",
    "%reload_ext autoreload\n",
    "%autoreload 2"
   ],
   "outputs": [
    {
     "output_type": "stream",
     "name": "stdout",
     "text": [
      "Blender path = /home/heij/local_bin/blender-2.79-linux-glibc219-x86_64/blender\n",
      "Blender path = /home/heij/local_bin/blender-2.79-linux-glibc219-x86_64/blender\n",
      "Blender path = /home/heij/local_bin/blender-2.79-linux-glibc219-x86_64/blender\n"
     ]
    }
   ],
   "metadata": {}
  },
  {
   "cell_type": "code",
   "execution_count": 2,
   "source": [
    "import cortex # Load libraries\n",
    "import numpy as np\n",
    "from linescanning import optimal, utils\n",
    "\n",
    "# Define pycortex subject\n",
    "mysub = 'sub-005'\n",
    "\n",
    "# Create empty dataset\n",
    "my_retinotopy=cortex.Dataset()\n"
   ],
   "outputs": [],
   "metadata": {}
  },
  {
   "cell_type": "code",
   "execution_count": 31,
   "source": [
    "default_blender = cortex.options.config.get('dependency_paths', 'blender')\n",
    "default_blender"
   ],
   "outputs": [
    {
     "output_type": "execute_result",
     "data": {
      "text/plain": [
       "'blender'"
      ]
     },
     "metadata": {},
     "execution_count": 31
    }
   ],
   "metadata": {}
  },
  {
   "cell_type": "code",
   "execution_count": null,
   "source": [
    "params_fn = utils.get_file_from_substring(\"task-2R_model-gauss\", opj(os.environ['PRF'], mysub))\n",
    "subj_dict = optimal.CalcBestVertex(subject=mysub, prf_file=params_fn)\n",
    "\n",
    "# Make into Dataset\n",
    "my_retinotopy.views['eccentricity']=subj_dict.prf.ecc_v\n",
    "my_retinotopy.views['angle']=subj_dict.prf.polar_v\n",
    "my_retinotopy.description='retinotopy'  "
   ],
   "outputs": [],
   "metadata": {}
  },
  {
   "cell_type": "code",
   "execution_count": 28,
   "source": [
    "cortex.segment.cut_surface(cx_subject=mysub, hemi='lh', name='retinotopy_flat', fs_subject=mysub, data=my_retinotopy)"
   ],
   "outputs": [
    {
     "output_type": "stream",
     "name": "stdout",
     "text": [
      "b'created by heij on Tue Apr 13 14:50:59 2021\\n'\n",
      "b'\\n'\n",
      "Vert check ok!\n",
      "b'created by heij on Tue Apr 13 14:50:02 2021\\n'\n",
      "b'created by heij on Tue Apr 13 14:50:59 2021\\n'\n",
      "In new named temp file: /tmp/tmp98vxriq1\n",
      "/home/heij/local_bin/blender-2.93.4-linux-x64/blender -b -P /tmp/tmp98vxriq1\n",
      "In new named temp file: /tmp/tmpfu7pig45\n",
      "/home/heij/local_bin/blender-2.93.4-linux-x64/blender -b -P /tmp/tmpfu7pig45\n",
      "In new named temp file: /tmp/tmp2nv1fkya\n",
      "/home/heij/local_bin/blender-2.93.4-linux-x64/blender -b -P /tmp/tmp2nv1fkya\n",
      "blender call = /home/heij/local_bin/blender-2.93.4-linux-x64/blender\n",
      "In new named temp file: /tmp/tmpjeupgx60\n",
      "/home/heij/local_bin/blender-2.93.4-linux-x64/blender -b -P /tmp/tmpjeupgx60\n",
      "Not going to flatten...\n"
     ]
    }
   ],
   "metadata": {}
  },
  {
   "cell_type": "code",
   "execution_count": null,
   "source": [],
   "outputs": [],
   "metadata": {}
  }
 ],
 "metadata": {
  "interpreter": {
   "hash": "a609b9908c92013f0a7176ca3f95c225787c8aad07fea248b25c6a6027a17698"
  },
  "kernelspec": {
   "name": "python3",
   "display_name": "Python 3.8.3 64-bit ('base': conda)"
  },
  "language_info": {
   "codemirror_mode": {
    "name": "ipython",
    "version": 3
   },
   "file_extension": ".py",
   "mimetype": "text/x-python",
   "name": "python",
   "nbconvert_exporter": "python",
   "pygments_lexer": "ipython3",
   "version": "3.8.3"
  }
 },
 "nbformat": 4,
 "nbformat_minor": 2
}